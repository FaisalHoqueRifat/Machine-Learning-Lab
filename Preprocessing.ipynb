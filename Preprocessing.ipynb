{
  "nbformat": 4,
  "nbformat_minor": 0,
  "metadata": {
    "colab": {
      "provenance": []
    },
    "kernelspec": {
      "name": "python3",
      "display_name": "Python 3"
    },
    "language_info": {
      "name": "python"
    }
  },
  "cells": [
    {
      "cell_type": "markdown",
      "source": [
        "***Importing libraries***"
      ],
      "metadata": {
        "id": "ABpIWp3ghqGF"
      }
    },
    {
      "cell_type": "code",
      "execution_count": null,
      "metadata": {
        "id": "W7hky1k8d63A"
      },
      "outputs": [],
      "source": [
        "import numpy as np\n",
        "import matplotlib.pyplot as plt\n",
        "import pandas as pd"
      ]
    },
    {
      "cell_type": "markdown",
      "source": [
        "***Importing the Datasets***"
      ],
      "metadata": {
        "id": "AX5siHTIh1r7"
      }
    },
    {
      "cell_type": "code",
      "source": [
        "dataset = pd.read_csv('Data.csv')"
      ],
      "metadata": {
        "id": "XoADRe3jf8qi"
      },
      "execution_count": 4,
      "outputs": []
    },
    {
      "cell_type": "markdown",
      "source": [
        "***Extracting Dependent and Independent variables***"
      ],
      "metadata": {
        "id": "oFlnhQ7ZiAx0"
      }
    },
    {
      "cell_type": "code",
      "source": [
        "X = dataset.iloc[:, :-1].values\n",
        "y = dataset.iloc[:, 3].values"
      ],
      "metadata": {
        "id": "2RnkP7AxghCl"
      },
      "execution_count": 5,
      "outputs": []
    },
    {
      "cell_type": "markdown",
      "source": [
        "***Handling Mising data***"
      ],
      "metadata": {
        "id": "407Lor07iFyJ"
      }
    },
    {
      "cell_type": "code",
      "source": [
        "#Handling mising data (Replacing mising data with the mean value)\n",
        "from sklearn.impute import SimpleImputer\n",
        "imputer = SimpleImputer(strategy='mean')"
      ],
      "metadata": {
        "id": "vwXqecEEiiXN"
      },
      "execution_count": 9,
      "outputs": []
    },
    {
      "cell_type": "code",
      "source": [
        "#Fiting imputer object to the independent variables X\n",
        "imputer = imputer.fit(X[:, 1:3])"
      ],
      "metadata": {
        "id": "S9mDdfI5i0uL"
      },
      "execution_count": 10,
      "outputs": []
    },
    {
      "cell_type": "code",
      "source": [
        "#Replacing missing data with the calculated mean value\n",
        "X[:, 1:3] = imputer.transform(X[:, 1:3])"
      ],
      "metadata": {
        "id": "yOpjUKk5jSuo"
      },
      "execution_count": 11,
      "outputs": []
    },
    {
      "cell_type": "markdown",
      "source": [
        "***Encoding Categorical data***"
      ],
      "metadata": {
        "id": "X9PdDNrPjqaI"
      }
    },
    {
      "cell_type": "code",
      "source": [
        "#Categorical data for Country Variable\n",
        "from sklearn.preprocessing import LabelEncoder, OneHotEncoder\n",
        "from sklearn.compose import ColumnTransformer"
      ],
      "metadata": {
        "id": "R2GXHMXijxxM"
      },
      "execution_count": 13,
      "outputs": []
    },
    {
      "cell_type": "code",
      "source": [
        "#for Country Variable\n",
        "label_encoder_X = LabelEncoder()\n",
        "X[:, 0] = label_encoder_X.fit_transform(X[:, 0])\n",
        "#Encoding for Dummy variables\n",
        "ct = ColumnTransformer([(\"Country\", OneHotEncoder(), [0])], remainder = 'passthrough')\n",
        "X = ct.fit_transform(X)"
      ],
      "metadata": {
        "id": "IGyZ5Ha8lE06"
      },
      "execution_count": 14,
      "outputs": []
    },
    {
      "cell_type": "code",
      "source": [
        "  #Encoding for purchased variable\n",
        "  Labelencoder_y = LabelEncoder()\n",
        "  y = Labelencoder_y.fit_transform(y)"
      ],
      "metadata": {
        "id": "65hL6VeimOkb"
      },
      "execution_count": 17,
      "outputs": []
    },
    {
      "cell_type": "markdown",
      "source": [
        "***Splitting the Dataset into the Training set and Test set***"
      ],
      "metadata": {
        "id": "lO82mf7DtBfV"
      }
    },
    {
      "cell_type": "code",
      "source": [
        "from sklearn.model_selection import train_test_split\n",
        "X_train, X_test, y_train, y_test = train_test_split(X, y, test_size = 0.2, random_state=0)"
      ],
      "metadata": {
        "id": "FAQenICTtunX"
      },
      "execution_count": 20,
      "outputs": []
    },
    {
      "cell_type": "markdown",
      "source": [
        "***Feature Scaling***"
      ],
      "metadata": {
        "id": "8FceFefzsfQn"
      }
    },
    {
      "cell_type": "code",
      "source": [
        "from sklearn.preprocessing import StandardScaler\n",
        "st_X = StandardScaler()\n",
        "X_train = st_X.fit_transform(X_train)\n",
        "X_test = st_X.transform(X_test)"
      ],
      "metadata": {
        "id": "8sOujk_7sZPn"
      },
      "execution_count": 23,
      "outputs": []
    }
  ]
}